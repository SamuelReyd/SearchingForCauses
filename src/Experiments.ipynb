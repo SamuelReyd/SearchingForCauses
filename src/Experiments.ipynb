{
 "cells": [
  {
   "cell_type": "markdown",
   "id": "51ec0eb6-061a-4fde-9f18-0d0735adb9e9",
   "metadata": {},
   "source": [
    "# Setup"
   ]
  },
  {
   "cell_type": "code",
   "execution_count": 1,
   "id": "1d814eac-2bab-4d44-964c-c2bb801b3580",
   "metadata": {},
   "outputs": [],
   "source": [
    "import numpy as np, timeit, time, matplotlib.pyplot as plt, json, os, pandas as pd\n",
    "from tqdm import tqdm"
   ]
  },
  {
   "cell_type": "code",
   "execution_count": 2,
   "id": "d2b8e7c9-f4b8-43ad-94c8-a86b14573e6a",
   "metadata": {},
   "outputs": [],
   "source": [
    "from experiments import *\n",
    "from rendering import *"
   ]
  },
  {
   "cell_type": "code",
   "execution_count": 3,
   "id": "2a25a136-2783-4acd-b4b8-56474edcd5d2",
   "metadata": {},
   "outputs": [],
   "source": [
    "import shutil, os\n",
    "# shutil.make_archive(\"../results\", 'zip', \"../results\")"
   ]
  },
  {
   "cell_type": "markdown",
   "id": "e97b792d-aa0d-4c97-a652-63c136d727fe",
   "metadata": {},
   "source": [
    "# Main"
   ]
  },
  {
   "cell_type": "markdown",
   "id": "e87056ca-a4a7-44fa-80a6-f857f2e1dfac",
   "metadata": {
    "jp-MarkdownHeadingCollapsed": true
   },
   "source": [
    "## Evaluate experiments"
   ]
  },
  {
   "cell_type": "code",
   "execution_count": 8,
   "id": "8a850849-0be8-4488-a176-a8f32a7d82d3",
   "metadata": {},
   "outputs": [],
   "source": [
    "## Base experiments\n",
    "# for exh, model, algo in exps:\n",
    "#     evaluate_SMK(model, exh, prefix=\"../\")"
   ]
  },
  {
   "cell_type": "code",
   "execution_count": 9,
   "id": "41385013-ce53-4929-86d2-a2cec629c73c",
   "metadata": {},
   "outputs": [],
   "source": [
    "## Noisy experiments\n",
    "# evaluate_noisy_SMK(prefix=\"../\")"
   ]
  },
  {
   "cell_type": "code",
   "execution_count": 10,
   "id": "5ac619dd-846e-49d7-a985-a9bcdbf8543e",
   "metadata": {},
   "outputs": [],
   "source": [
    "## Smallest experiments\n",
    "# evaluate_SMK(Models.BASE, Exhaustivness.SMALLEST, prefix=\"../\")"
   ]
  },
  {
   "cell_type": "code",
   "execution_count": 11,
   "id": "e7aa6834-c70a-4c22-b966-9e9bfb98a9d9",
   "metadata": {},
   "outputs": [],
   "source": [
    "## ILP experiments\n",
    "# evaluate_ILP(prefix=\"../\")"
   ]
  },
  {
   "cell_type": "code",
   "execution_count": 12,
   "id": "138c2b4e-cec1-4e83-bc0a-4b7ae172e036",
   "metadata": {},
   "outputs": [],
   "source": [
    "## Noisy params\n",
    "# for algo in AlgoTypes:\n",
    "#     evaluate_params_SMK(algo, prefix=\"../\")"
   ]
  },
  {
   "cell_type": "markdown",
   "id": "06430aa2-be7d-4e50-a342-8fe1dadc2134",
   "metadata": {
    "jp-MarkdownHeadingCollapsed": true
   },
   "source": [
    "## Plot results"
   ]
  },
  {
   "cell_type": "markdown",
   "id": "2b4493b4-079c-4f29-bb32-bc255e08ef4d",
   "metadata": {
    "jp-MarkdownHeadingCollapsed": true
   },
   "source": [
    "### Short"
   ]
  },
  {
   "cell_type": "code",
   "execution_count": 15,
   "id": "7b323094-f0b1-4b09-8c48-4ae70057678f",
   "metadata": {},
   "outputs": [],
   "source": [
    "# plot_metrics_short()"
   ]
  },
  {
   "cell_type": "code",
   "execution_count": 18,
   "id": "3c96f12f-0c6c-4e12-a2ad-123e8ba6fc4a",
   "metadata": {},
   "outputs": [],
   "source": [
    "# plot_distributions_short((2,5,10), Exhaustivness.FULL, (1,12,25,37,50), prefix=\"../\", plot_type=\"violin\")"
   ]
  },
  {
   "cell_type": "code",
   "execution_count": 19,
   "id": "7e9971df-9c48-4cbd-808e-137aea2b827c",
   "metadata": {},
   "outputs": [],
   "source": [
    "# plot_distributions_short((4,11,20), Exhaustivness.SMALLEST, (1,22,44,66,88,100), prefix=\"../\", plot_type=\"violin\")"
   ]
  },
  {
   "cell_type": "markdown",
   "id": "c82d9f8c-ddfc-419f-9123-6dc31278fe1e",
   "metadata": {
    "jp-MarkdownHeadingCollapsed": true
   },
   "source": [
    "### Main Figure"
   ]
  },
  {
   "cell_type": "code",
   "execution_count": 20,
   "id": "e7d0e0cd-2f02-4f79-814b-822e9dd953c2",
   "metadata": {},
   "outputs": [],
   "source": [
    "# plot_two_metrics(n_attackers, beam_sizes, (\"F1\",\"time\"), \"main-fig\", prefix=\"../\")"
   ]
  },
  {
   "cell_type": "markdown",
   "id": "1629648a-e02e-45dc-9b43-52339eac3dff",
   "metadata": {
    "jp-MarkdownHeadingCollapsed": true
   },
   "source": [
    "### Main smallest figure"
   ]
  },
  {
   "cell_type": "code",
   "execution_count": 21,
   "id": "d686b5f1-4a3e-4746-a0dd-39a1d1740cc2",
   "metadata": {},
   "outputs": [],
   "source": [
    "# plot_smallest(n_attackers_smallest, beam_sizes_smallest)"
   ]
  },
  {
   "cell_type": "markdown",
   "id": "6e7cbe73-70e7-4cec-ad5b-b3c01de45ba3",
   "metadata": {
    "jp-MarkdownHeadingCollapsed": true
   },
   "source": [
    "### Noisy params"
   ]
  },
  {
   "cell_type": "code",
   "execution_count": 22,
   "id": "05325ace-aa68-4941-ae6f-1d88bfb4d1ea",
   "metadata": {},
   "outputs": [],
   "source": [
    "# plot_noisy_params(Ns, prefix=\"../\")"
   ]
  },
  {
   "cell_type": "markdown",
   "id": "e0f26ed3-6a37-4acc-92b4-da2bd13815e2",
   "metadata": {
    "jp-MarkdownHeadingCollapsed": true
   },
   "source": [
    "### Regressions"
   ]
  },
  {
   "cell_type": "code",
   "execution_count": 23,
   "id": "85998a0e-1415-4d33-b036-ad23b846d70d",
   "metadata": {},
   "outputs": [],
   "source": [
    "# plot_regression_smallest(n_attackers_smallest, beam_sizes_smallest, (\"time\",\"accuracy\"), prefix=\"../\")"
   ]
  },
  {
   "cell_type": "markdown",
   "id": "aa618e1a-ade6-4425-a96c-ab16820e6bb4",
   "metadata": {
    "jp-MarkdownHeadingCollapsed": true
   },
   "source": [
    "### Heuristics"
   ]
  },
  {
   "cell_type": "code",
   "execution_count": 28,
   "id": "392e660c-deca-4282-b4ec-7bc0caef8508",
   "metadata": {},
   "outputs": [],
   "source": [
    "# plot_heuristics(\"../\")"
   ]
  },
  {
   "cell_type": "markdown",
   "id": "cc184a53-8bd0-41b4-b8d7-d2fbf34befed",
   "metadata": {
    "jp-MarkdownHeadingCollapsed": true
   },
   "source": [
    "### Box plots"
   ]
  },
  {
   "cell_type": "code",
   "execution_count": 25,
   "id": "86b4d60b-7c49-42e1-9604-470a88c7ac24",
   "metadata": {},
   "outputs": [],
   "source": [
    "# exh = Exhaustivness.FULL\n",
    "# for algo, metric in product(AlgoTypes, (\"F1\",\"time\")):\n",
    "#     print(f\"Algo: {algo.value} / Metric: {metric}\")\n",
    "#     models = []\n",
    "#     for model in Models:\n",
    "#         if algo == AlgoTypes.STRUCTURED and model == Models.BLACK_BOX: continue\n",
    "#         if model == Models.NOISY:\n",
    "#             models.append((model, \"lucb\"))\n",
    "#             models.append((model, \"naive\"))\n",
    "#         else:\n",
    "#             models.append((model, None))\n",
    "#     plot_distributions(models, n_attackers, algo, exh, metric)\n",
    "#     print(\"\\n\\n\")"
   ]
  },
  {
   "cell_type": "markdown",
   "id": "45e73b1a-4663-4900-8b03-7c6d1efc83e2",
   "metadata": {
    "jp-MarkdownHeadingCollapsed": true
   },
   "source": [
    "### Increase"
   ]
  },
  {
   "cell_type": "code",
   "execution_count": 31,
   "id": "51010dd7-2629-4306-b4be-2c13867a1be7",
   "metadata": {},
   "outputs": [],
   "source": [
    "# render_table_increasing(\"../\")"
   ]
  },
  {
   "cell_type": "code",
   "execution_count": 32,
   "id": "85cd9e07-ca88-4e33-925c-2b489cca88b5",
   "metadata": {},
   "outputs": [],
   "source": [
    "# make_measures_increasing(2, AlgoTypes.BASE, Exhaustivness.FULL, Models.BASE, \"../\", True)"
   ]
  },
  {
   "cell_type": "code",
   "execution_count": 33,
   "id": "bb07cfdb-7741-404b-8416-c8053ccac332",
   "metadata": {},
   "outputs": [],
   "source": [
    "# make_measures_increasing(10, AlgoTypes.BASE, Exhaustivness.FULL, Models.NON_BOOLEAN, \"../\", True)"
   ]
  },
  {
   "cell_type": "code",
   "execution_count": 34,
   "id": "dd963d65-28c2-4046-944a-44d646a369f2",
   "metadata": {},
   "outputs": [],
   "source": [
    "# make_measures_increasing(5, AlgoTypes.BASE, Exhaustivness.FULL, Models.BASE, \"../\", True)"
   ]
  },
  {
   "cell_type": "markdown",
   "id": "03970113-d06e-473f-a9b1-92c1d3ed5062",
   "metadata": {
    "jp-MarkdownHeadingCollapsed": true
   },
   "source": [
    "### Recall / Precision plots"
   ]
  },
  {
   "cell_type": "code",
   "execution_count": 26,
   "id": "e8125259-c3b1-47d4-9cac-a022ca337844",
   "metadata": {},
   "outputs": [],
   "source": [
    "# plot_two_metrics(n_attackers, beam_sizes, (\"Precision\", \"Recall\"), \"f-components\", prefix=\"../\")"
   ]
  },
  {
   "cell_type": "markdown",
   "id": "496ce658-bda9-4563-8d71-cec9c77d033e",
   "metadata": {
    "jp-MarkdownHeadingCollapsed": true
   },
   "source": [
    "### Overshoot / miss plots"
   ]
  },
  {
   "cell_type": "code",
   "execution_count": 30,
   "id": "67b65a63-c65c-4a97-852a-aea19725a4b7",
   "metadata": {},
   "outputs": [],
   "source": [
    "# plot_two_metrics(n_attackers, beam_sizes, (\"% Overshoot\", \"Missed\"), \"non-minimal\",prefix=\"../\")"
   ]
  },
  {
   "cell_type": "code",
   "execution_count": null,
   "id": "ba6c546f-6d59-47c8-af94-b71f13b01f3b",
   "metadata": {},
   "outputs": [],
   "source": []
  }
 ],
 "metadata": {
  "kernelspec": {
   "display_name": "myenv",
   "language": "python",
   "name": "myenv"
  },
  "language_info": {
   "codemirror_mode": {
    "name": "ipython",
    "version": 3
   },
   "file_extension": ".py",
   "mimetype": "text/x-python",
   "name": "python",
   "nbconvert_exporter": "python",
   "pygments_lexer": "ipython3",
   "version": "3.13.5"
  }
 },
 "nbformat": 4,
 "nbformat_minor": 5
}

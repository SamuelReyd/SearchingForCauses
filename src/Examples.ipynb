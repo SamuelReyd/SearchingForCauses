{
 "cells": [
  {
   "cell_type": "markdown",
   "id": "12956d64-13f3-4b39-8c5a-8581ee1f3650",
   "metadata": {},
   "source": [
    "# Setup"
   ]
  },
  {
   "cell_type": "code",
   "execution_count": 1,
   "id": "72ca0388-82e1-454d-a007-593e75fbcf97",
   "metadata": {},
   "outputs": [],
   "source": [
    "import numpy as np, timeit, time, matplotlib.pyplot as plt, json, os\n",
    "from tqdm import tqdm\n",
    "from sklearn.linear_model import LinearRegression\n",
    "from sklearn.metrics import r2_score\n",
    "from matplotlib import colormaps"
   ]
  },
  {
   "cell_type": "code",
   "execution_count": 2,
   "id": "d5f63626-8b30-47f7-8a5a-fdbcb2572e88",
   "metadata": {},
   "outputs": [],
   "source": [
    "from scipy.optimize import curve_fit\n",
    "from collections.abc import Iterable\n",
    "from itertools import product"
   ]
  },
  {
   "cell_type": "code",
   "execution_count": 3,
   "id": "231ac592-a6a6-4059-a8e7-a0084c4498fe",
   "metadata": {},
   "outputs": [],
   "source": [
    "from binary_models import *\n",
    "from benchmark_models import rock_throwing_model, SMK_model, get_SMK_dim_labels, get_mSMK_SCM, get_bbSMK_SCM\n",
    "from benchmark_models import get_noisy_suzy_SCM, get_nSMK_SCM\n",
    "from actualcauses import beam_search, show_rules, iterative_identification"
   ]
  },
  {
   "cell_type": "markdown",
   "id": "e7b64ff3-0716-410e-8745-88a61174a717",
   "metadata": {
    "jp-MarkdownHeadingCollapsed": true
   },
   "source": [
    "# Utils"
   ]
  },
  {
   "cell_type": "code",
   "execution_count": null,
   "id": "026565a2-1e2d-4d4c-854b-744387ca3f11",
   "metadata": {},
   "outputs": [],
   "source": []
  },
  {
   "cell_type": "markdown",
   "id": "f0937e9d-b217-4db3-b51a-4b9aab8db9b4",
   "metadata": {},
   "source": [
    "# Main"
   ]
  },
  {
   "cell_type": "markdown",
   "id": "a3c92730-7943-48e7-b735-6878c4048d77",
   "metadata": {
    "jp-MarkdownHeadingCollapsed": true
   },
   "source": [
    "## Example on rock throwing"
   ]
  },
  {
   "cell_type": "code",
   "execution_count": 4,
   "id": "e8c294d2-8c69-48fa-855f-5baebfecad35",
   "metadata": {},
   "outputs": [],
   "source": [
    "variables = (\"ST\", \"BT\", \"SH\", \"BH\", \"BS\")\n",
    "u = (1,1,1,0,1)\n",
    "SCM = make_SCM(variables=variables, V_exo=u, model=rock_throwing_model)"
   ]
  },
  {
   "cell_type": "code",
   "execution_count": 5,
   "id": "ec09f259-3ee6-4863-b4b9-d79ebaf5e39e",
   "metadata": {},
   "outputs": [
    {
     "data": {
      "text/plain": [
       "('ST', 'BT', 'SH', 'BH')"
      ]
     },
     "execution_count": 5,
     "metadata": {},
     "output_type": "execute_result"
    }
   ],
   "source": [
    "SCM[\"variables\"]"
   ]
  },
  {
   "cell_type": "code",
   "execution_count": 6,
   "id": "a05fe41d-c762-47c7-8d70-186ec114d609",
   "metadata": {},
   "outputs": [],
   "source": [
    "# causes = beam_search(**SCM, max_steps=-1,beam_size=3,early_stop=False,verbose=5)"
   ]
  },
  {
   "cell_type": "code",
   "execution_count": 7,
   "id": "58b132ad-cb0a-4e89-a19a-ada8b99d5214",
   "metadata": {},
   "outputs": [],
   "source": [
    "# show_rules(causes, SCM[\"variables\"])"
   ]
  },
  {
   "cell_type": "markdown",
   "id": "0f102a7e-c2e5-4837-ad6a-e109840cde22",
   "metadata": {},
   "source": [
    "## Structure example with SMK"
   ]
  },
  {
   "cell_type": "code",
   "execution_count": 8,
   "id": "05f39f74-6b0b-4606-af5a-2478af7285f8",
   "metadata": {},
   "outputs": [],
   "source": [
    "n_attacker = 3\n",
    "variables = get_SMK_dim_labels(n_attacker)\n",
    "u = [0, 1, 1, 0, 1, 1, 1, 1, 1, 1, 1, 0, 0, 1, 0, 0, 0, 0]\n",
    "SCM = make_SCM(variables, u, SMK_model, n_attacker=n_attacker)\n",
    "dag, init_var_ids = build_DAG(n_attacker, SCM[\"variables\"])"
   ]
  },
  {
   "cell_type": "code",
   "execution_count": 9,
   "id": "b451c6a9-dd04-4f30-82cf-bda05417a8bf",
   "metadata": {
    "scrolled": true
   },
   "outputs": [
    {
     "name": "stdout",
     "output_type": "stream",
     "text": [
      "============Step 1============\n",
      "Evaluating 35 rules\n",
      "Number of causes found: 1\n",
      "Number of non-causes remaining: 34\n",
      "Best non-cause:\n",
      "C={'FS-U1': '1'}, W={}, output=True, score=19.000\n",
      "Worst non-cause:\n",
      "C={'SD': '1'}, W={}, output=True, score=18.000\n",
      "============Step 2============\n",
      "Evaluating 1717 rules\n",
      "Number of causes found: 3\n",
      "Number of non-causes remaining: 1705\n",
      "Best non-cause:\n",
      "C={'FS-U2': '0'}, W={'FS-U1': '0'}, output=True, score=16.000\n",
      "Worst non-cause:\n",
      "C={'SD': '1'}, W={'DK': '1'}, output=1, score=18.000\n",
      "============Step 3============\n",
      "Evaluating 8729 rules\n",
      "Number of causes found: 2\n",
      "Number of non-causes remaining: 8721\n",
      "Best non-cause:\n",
      "C={'FS-U2': '0', 'FS-U3': '0'}, W={'FS-U1': '0'}, output=True, score=15.000\n",
      "Worst non-cause:\n",
      "C={'SD': '1', 'GK-U1': '0', 'GK-U3': '0'}, W={}, output=True, score=16.000\n",
      "============Step 4============\n",
      "Evaluating 8820 rules\n",
      "Number of causes found: 0\n",
      "Number of non-causes remaining: 8820\n",
      "Best non-cause:\n",
      "C={'FS-U2': '0', 'FS-U3': '0', 'FN-U3': '0'}, W={'FS-U1': '0'}, output=True, score=13.000\n",
      "Worst non-cause:\n",
      "C={'FF-U3': '0', 'SD': '1', 'GP-U3': '0', 'GK-U1': '0'}, W={}, output=True, score=14.000\n",
      "============Step 5============\n",
      "Evaluating 9378 rules\n",
      "Number of causes found: 0\n",
      "Number of non-causes remaining: 9378\n",
      "Best non-cause:\n",
      "C={'FS-U2': '0', 'FS-U3': '0', 'FN-U3': '0', 'FF-U1': '0'}, W={'FS-U1': '0'}, output=True, score=12.000\n",
      "Worst non-cause:\n",
      "C={'FF-U3': '0', 'FDB-U1': '0', 'SD': '1', 'FF-U1': '0'}, W={'DK': '1'}, output=1, score=13.000\n",
      "============Step 6============\n",
      "Evaluating 8637 rules\n",
      "Number of causes found: 0\n",
      "Number of non-causes remaining: 8637\n",
      "Best non-cause:\n",
      "C={'FF-U3': '0', 'FS-U2': '0', 'FS-U3': '0', 'FN-U3': '0'}, W={'FS-U1': '0', 'FN-U1': '0'}, output=True, score=11.000\n",
      "Worst non-cause:\n",
      "C={'SD': '1', 'FF-U1': '0', 'FF-U3': '0', 'FDB-U1': '0', 'A-U2': '0', 'GP-U3': '0'}, W={}, output=True, score=11.000\n",
      "----> Found 6 causes.\n",
      "======Overall best rule:======\n",
      "C={'FS-U2': '0', 'FN-U2': '0'}, W={'DK-U3': '0'}, output=False, score=11.000\n",
      "2.753s\n"
     ]
    }
   ],
   "source": [
    "t = time.time()\n",
    "bs_causes = beam_search(**SCM,max_steps=6,beam_size=200, verbose=2, early_stop=False)\n",
    "print(f\"{time.time()-t:.3f}s\")"
   ]
  },
  {
   "cell_type": "code",
   "execution_count": 10,
   "id": "d5b02cd0-d760-4df9-b919-8ea626a8226c",
   "metadata": {},
   "outputs": [
    {
     "name": "stdout",
     "output_type": "stream",
     "text": [
      "C={'FS-U2': '0', 'FN-U2': '0'}, W={'DK-U3': '0'}, output=False, score=11.000\n",
      "C={'FDB-U2': '0', 'FF-U2': '0'}, W={'DK-U3': '0'}, output=False, score=11.000\n",
      "C={'GP-U2': '0'}, W={'DK-U3': '0'}, output=False, score=13.000\n",
      "C={'GK-U2': '0'}, W={'DK-U3': '0'}, output=False, score=13.000\n",
      "C={'DK-U2': '0'}, W={'DK-U3': '0'}, output=False, score=14.000\n",
      "C={'DK': '0'}, W={}, output=False, score=15.000\n"
     ]
    }
   ],
   "source": [
    "show_rules(bs_causes, SCM[\"variables\"])"
   ]
  },
  {
   "cell_type": "code",
   "execution_count": 12,
   "id": "0de6c8d1-c108-49e4-a0be-9ad75963cbb6",
   "metadata": {
    "scrolled": true
   },
   "outputs": [
    {
     "name": "stdout",
     "output_type": "stream",
     "text": [
      "len(queue)=1\n",
      "var_ids=(34, 33), beams_w=None\n"
     ]
    },
    {
     "name": "stderr",
     "output_type": "stream",
     "text": [
      "2it [00:00, 2465.79it/s]\n"
     ]
    },
    {
     "name": "stdout",
     "output_type": "stream",
     "text": [
      "----> Found 1 causes.\n",
      "======Overall best rule:======\n",
      "C={'DK': '0'}, W={}, output=False, score=15.000\n",
      "  Cause C={'DK': '0'}, W={} -> (27, 28, 29) ()\n",
      "==========\n",
      "len(queue)=1\n",
      "var_ids=(27, 28, 29), beams_w=()\n"
     ]
    },
    {
     "name": "stderr",
     "output_type": "stream",
     "text": [
      "3it [00:00, 548.13it/s]\n"
     ]
    },
    {
     "name": "stdout",
     "output_type": "stream",
     "text": [
      "----> Found 1 causes.\n",
      "======Overall best rule:======\n",
      "C={'DK-U2': '0'}, W={'DK-U3': '0'}, output=False, score=14.000\n",
      "  Cause C={'DK-U2': '0'}, W={'DK-U3': '0'} -> (19, 22, 27) ((29, False),)\n",
      "==========\n",
      "len(queue)=1\n",
      "var_ids=(19, 22, 27), beams_w=((29, False),)\n"
     ]
    },
    {
     "name": "stderr",
     "output_type": "stream",
     "text": [
      "3it [00:00, 3824.59it/s]\n"
     ]
    },
    {
     "name": "stdout",
     "output_type": "stream",
     "text": [
      "----> Found 2 causes.\n",
      "======Overall best rule:======\n",
      "C={'GP-U2': '0'}, W={}, output=False, score=13.000\n",
      "  Cause C={'GP-U2': '0'}, W={'DK-U3': '0'} -> (1, 4) ((29, False),)\n",
      "  Cause C={'GK-U2': '0'}, W={'DK-U3': '0'} -> (7, 10) ((29, False),)\n",
      "==========\n",
      "len(queue)=2\n",
      "var_ids=(1, 4), beams_w=((29, False),)\n"
     ]
    },
    {
     "name": "stderr",
     "output_type": "stream",
     "text": [
      "2it [00:00, 3247.62it/s]\n"
     ]
    },
    {
     "name": "stdout",
     "output_type": "stream",
     "text": [
      "----> Found 1 causes.\n",
      "======Overall best rule:======\n",
      "C={'FS-U2': '0', 'FN-U2': '0'}, W={}, output=False, score=11.000\n",
      "==========\n",
      "len(queue)=1\n",
      "var_ids=(7, 10), beams_w=((29, False),)\n"
     ]
    },
    {
     "name": "stderr",
     "output_type": "stream",
     "text": [
      "2it [00:00, 3093.14it/s]"
     ]
    },
    {
     "name": "stdout",
     "output_type": "stream",
     "text": [
      "----> Found 1 causes.\n",
      "======Overall best rule:======\n",
      "C={'FF-U2': '0', 'FDB-U2': '0'}, W={}, output=False, score=11.000\n",
      "==========\n",
      "0.040s\n"
     ]
    },
    {
     "name": "stderr",
     "output_type": "stream",
     "text": [
      "\n"
     ]
    }
   ],
   "source": [
    "t = time.time()\n",
    "sbs_causes = iterative_identification(**SCM, dag=dag, \n",
    "                                            init_var_ids=init_var_ids,\n",
    "                                            max_steps=-1, beam_size=-1, \n",
    "                                            verbose=1, early_stop=False)\n",
    "print(f\"{(time.time()-t):.3f}s\")"
   ]
  },
  {
   "cell_type": "code",
   "execution_count": 13,
   "id": "134e1282-29af-41c7-aecf-108f036aeb73",
   "metadata": {},
   "outputs": [
    {
     "name": "stdout",
     "output_type": "stream",
     "text": [
      "C={'DK': '0'}, W={}, output=False, score=15.000\n",
      "C={'DK-U2': '0'}, W={'DK-U3': '0'}, output=False, score=14.000\n",
      "C={'GP-U2': '0'}, W={'DK-U3': '0'}, output=False, score=13.000\n",
      "C={'GK-U2': '0'}, W={'DK-U3': '0'}, output=False, score=13.000\n",
      "C={'FS-U2': '0', 'FN-U2': '0'}, W={'DK-U3': '0'}, output=False, score=11.000\n",
      "C={'FDB-U2': '0', 'FF-U2': '0'}, W={'DK-U3': '0'}, output=False, score=11.000\n"
     ]
    }
   ],
   "source": [
    "show_rules(sbs_causes, SCM[\"variables\"])"
   ]
  },
  {
   "cell_type": "markdown",
   "id": "678e2142-7a68-4531-8edf-2a0478ad009a",
   "metadata": {},
   "source": [
    "## Non boolean SMK example"
   ]
  },
  {
   "cell_type": "code",
   "execution_count": 14,
   "id": "0ef6ea0d-656b-4eda-844b-0ca5936ffb54",
   "metadata": {},
   "outputs": [],
   "source": [
    "u = [0, 1, 1, 0, 1, 1, 1, 1, 1, 1, 1, 0, 0, 1, 0, 0, 0, 0]\n",
    "SCM = get_mSMK_SCM(3, u)"
   ]
  },
  {
   "cell_type": "code",
   "execution_count": 15,
   "id": "7497664d-0143-48c4-8d3a-194a62e13e35",
   "metadata": {},
   "outputs": [
    {
     "data": {
      "text/plain": [
       "([(0, 'FS', (1, 2)),\n",
       "  (1, 'FN', (1, 2)),\n",
       "  (2, 'FF', (0, 1, 2)),\n",
       "  (3, 'FDB', (0, 1)),\n",
       "  (4, 'A', (1,)),\n",
       "  (5, 'AD', ()),\n",
       "  (6, 'GP', (1, 2)),\n",
       "  (7, 'GK', (0, 1, 2)),\n",
       "  (8, 'KMS', ()),\n",
       "  (9, 'DK', 1),\n",
       "  (10, 'SD', -1)],\n",
       " True)"
      ]
     },
     "execution_count": 15,
     "metadata": {},
     "output_type": "execute_result"
    }
   ],
   "source": [
    "list(zip(range(len(SCM[\"variables\"])),SCM[\"variables\"], SCM[\"instance\"])), SCM[\"instance\"][-1]"
   ]
  },
  {
   "cell_type": "code",
   "execution_count": 16,
   "id": "dc98fe88-cf36-4c31-847d-05b584a7d20f",
   "metadata": {},
   "outputs": [],
   "source": [
    "def solve_non_boolean(variables, instance):\n",
    "    FS, FN, FF, FDB, A, AD, GP, GK, KMS, DK, SD, _ = instance\n",
    "    print(f\"{FS=}, {FN=}, {FF=}, {FDB=}, {A=}, {AD=}, {GP=}, {GK=}, {KMS=}, {DK=}, {SD=}\")\n",
    "    causes = []\n",
    "    left_causes = []\n",
    "    right_causes = []\n",
    "    if DK != -1:\n",
    "        left_causes.append([0])\n",
    "        "
   ]
  },
  {
   "cell_type": "code",
   "execution_count": 17,
   "id": "f989e69a-abb5-464f-859c-7d3609b97747",
   "metadata": {},
   "outputs": [
    {
     "name": "stdout",
     "output_type": "stream",
     "text": [
      "FS=(1, 2), FN=(1, 2), FF=(0, 1, 2), FDB=(0, 1), A=(1,), AD=(), GP=(1, 2), GK=(0, 1, 2), KMS=(), DK=1, SD=-1\n"
     ]
    }
   ],
   "source": [
    "solve_non_boolean(SCM[\"variables\"], SCM[\"instance\"])"
   ]
  },
  {
   "cell_type": "code",
   "execution_count": 18,
   "id": "cf783b08-e88d-4f50-aeb1-af3f3ab55e06",
   "metadata": {
    "scrolled": true
   },
   "outputs": [
    {
     "name": "stdout",
     "output_type": "stream",
     "text": [
      "============Step 1============\n",
      "Evaluating 69 rules\n",
      "Number of causes found: 3\n",
      "Number of non-causes remaining: 65\n",
      "Best non-cause:\n",
      "C={'FS': '()'}, W={}, output=True, score=13.000\n",
      "Worst non-cause:\n",
      "C={'SD': '2'}, W={}, output=True, score=18.000\n",
      "============Step 2============\n",
      "Evaluating 518 rules\n",
      "Number of causes found: 2\n",
      "Number of non-causes remaining: 513\n",
      "Best non-cause:\n",
      "C={'FS': '()', 'FN': '(0,)'}, W={}, output=True, score=10.000\n",
      "Worst non-cause:\n",
      "C={'SD': '2', 'FDB': '()'}, W={}, output=True, score=16.000\n",
      "============Step 3============\n",
      "Evaluating 330 rules\n",
      "Number of causes found: 0\n",
      "Number of non-causes remaining: 330\n",
      "Best non-cause:\n",
      "C={'FS': '()', 'FF': '()'}, W={'FN': '(1, 2)'}, output=True, score=9.000\n",
      "Worst non-cause:\n",
      "C={'FN': '(0,)', 'FF': '()', 'SD': '2'}, W={}, output=True, score=13.000\n",
      "============Step 4============\n",
      "Evaluating 247 rules\n",
      "Number of causes found: 0\n",
      "Number of non-causes remaining: 247\n",
      "Best non-cause:\n",
      "C={'FS': '()', 'FF': '()'}, W={'FN': '(1, 2)', 'FDB': '(0, 1)'}, output=True, score=9.000\n",
      "Worst non-cause:\n",
      "C={'FN': '()', 'FF': '()', 'SD': '2', 'A': '()'}, W={}, output=True, score=11.000\n",
      "============Step 5============\n",
      "Evaluating 192 rules\n",
      "Number of causes found: 0\n",
      "Number of non-causes remaining: 192\n",
      "Best non-cause:\n",
      "C={'FS': '()', 'FF': '()', 'A': '()'}, W={'FN': '(1, 2)', 'FDB': '(0, 1)'}, output=True, score=8.000\n",
      "Worst non-cause:\n",
      "C={'FN': '()', 'FF': '()', 'SD': '2', 'A': '()'}, W={'AD': '()'}, output=True, score=11.000\n",
      "----> Found 5 causes.\n",
      "======Overall best rule:======\n",
      "C={'FF': '()', 'FDB': '()'}, W={}, output=False, score=5.000\n"
     ]
    }
   ],
   "source": [
    "causes = beam_search(**SCM, early_stop=False, verbose=2)"
   ]
  },
  {
   "cell_type": "code",
   "execution_count": 19,
   "id": "b0deb539-db81-4b76-9265-945d03671dd7",
   "metadata": {},
   "outputs": [
    {
     "name": "stdout",
     "output_type": "stream",
     "text": [
      "C={'FF': '()', 'FDB': '()'}, W={}, output=False, score=5.000\n",
      "C={'FS': '()', 'FN': '()'}, W={}, output=False, score=7.000\n",
      "C={'GK': '()'}, W={}, output=False, score=10.000\n",
      "C={'GP': '()'}, W={}, output=False, score=11.000\n",
      "C={'DK': '-1'}, W={}, output=False, score=13.000\n"
     ]
    }
   ],
   "source": [
    "show_rules(causes, SCM[\"variables\"])"
   ]
  },
  {
   "cell_type": "code",
   "execution_count": null,
   "id": "087764d4-da03-42fd-86e9-eb7502d195a2",
   "metadata": {},
   "outputs": [],
   "source": []
  },
  {
   "cell_type": "code",
   "execution_count": 21,
   "id": "20aa2642-2392-4687-a9a4-49e393e3ed8e",
   "metadata": {},
   "outputs": [
    {
     "name": "stdout",
     "output_type": "stream",
     "text": [
      "0.008s\n"
     ]
    }
   ],
   "source": [
    "dag, init_var_ids = build_DAG_non_boolean(3, SCM[\"variables\"])\n",
    "t = time.time()\n",
    "causes = iterative_identification(**SCM, dag=dag, \n",
    "                                   init_var_ids=init_var_ids,\n",
    "                                   max_steps=-1, beam_size=-1, \n",
    "                                   verbose=0, early_stop=False)\n",
    "print(f\"{(time.time()-t):.3f}s\")"
   ]
  },
  {
   "cell_type": "code",
   "execution_count": 22,
   "id": "e45d242e-6f91-4256-9778-32e70ef65073",
   "metadata": {},
   "outputs": [
    {
     "name": "stdout",
     "output_type": "stream",
     "text": [
      "C={'DK': '-1'}, W={}, output=False, score=13.000\n",
      "C={'GK': '()'}, W={}, output=False, score=10.000\n",
      "C={'GP': '()'}, W={}, output=False, score=11.000\n",
      "C={'FF': '()', 'FDB': '()'}, W={}, output=False, score=5.000\n",
      "C={'FS': '()', 'FN': '()'}, W={}, output=False, score=7.000\n"
     ]
    }
   ],
   "source": [
    "show_rules(causes, SCM[\"variables\"])"
   ]
  },
  {
   "cell_type": "markdown",
   "id": "234c2e49-d409-4ee9-b815-3af28739d2f7",
   "metadata": {},
   "source": [
    "## Black box SMK example"
   ]
  },
  {
   "cell_type": "code",
   "execution_count": 23,
   "id": "700c1d27-ad15-43ef-a090-29674239d896",
   "metadata": {},
   "outputs": [],
   "source": [
    "u = [0, 1, 1, 0, 1, 1, 1, 1, 1, 1, 1, 0, 0, 1, 0, 0, 0, 0]\n",
    "SCM = get_bbSMK_SCM(3, u)"
   ]
  },
  {
   "cell_type": "code",
   "execution_count": 24,
   "id": "42f4c7fc-501c-474e-a669-75642da75b9d",
   "metadata": {},
   "outputs": [
    {
     "data": {
      "text/plain": [
       "1"
      ]
     },
     "execution_count": 24,
     "metadata": {},
     "output_type": "execute_result"
    }
   ],
   "source": [
    "SCM[\"instance\"][-1]"
   ]
  },
  {
   "cell_type": "code",
   "execution_count": 25,
   "id": "7db778c1-0413-4c76-a303-b976f665cdbd",
   "metadata": {},
   "outputs": [
    {
     "data": {
      "text/plain": [
       "[([0, 0, 0, 0, 0, 0, 1, 1, 1, 1, 1, 0, 0, 1, 0, 0, 0, 0, 0], 0.0, 5)]"
      ]
     },
     "execution_count": 25,
     "metadata": {},
     "output_type": "execute_result"
    }
   ],
   "source": [
    "SCM[\"simulation\"]([[(1,0),(2,0),(4,0),(5,0)]])"
   ]
  },
  {
   "cell_type": "code",
   "execution_count": 26,
   "id": "6dad8fc0-324f-4b9c-b69c-7e59d66d98d5",
   "metadata": {},
   "outputs": [
    {
     "name": "stderr",
     "output_type": "stream",
     "text": [
      "100%|██████████| 10/10 [00:00<00:00, 26.96it/s]"
     ]
    },
    {
     "name": "stdout",
     "output_type": "stream",
     "text": [
      "----> Found 4 causes.\n",
      "======Overall best rule:======\n",
      "C={'FS-U2': '0', 'FS-U3': '0', 'FN-U2': '0', 'FN-U3': '0'}, W={}, output=0.0, score=5.000\n"
     ]
    },
    {
     "name": "stderr",
     "output_type": "stream",
     "text": [
      "\n"
     ]
    }
   ],
   "source": [
    "causes = beam_search(**SCM, early_stop=False, verbose=1, beam_size=50, max_steps=10)"
   ]
  },
  {
   "cell_type": "code",
   "execution_count": 27,
   "id": "43e36074-cb0b-48db-bbb2-b277933409f7",
   "metadata": {},
   "outputs": [
    {
     "name": "stdout",
     "output_type": "stream",
     "text": [
      "C={'FS-U2': '0', 'FS-U3': '0', 'FN-U2': '0', 'FN-U3': '0'}, W={}, output=0.0, score=5.000\n",
      "C={'FS-U3': '0', 'FDB-U2': '0', 'FN-U3': '0', 'FF-U2': '0'}, W={}, output=0.0, score=5.000\n",
      "C={'FF-U3': '0', 'FS-U2': '0', 'FN-U2': '0'}, W={}, output=0.0, score=6.000\n",
      "C={'FF-U3': '0', 'FDB-U2': '0', 'FF-U2': '0'}, W={}, output=0.0, score=6.000\n"
     ]
    }
   ],
   "source": [
    "show_rules(causes, SCM[\"variables\"])"
   ]
  },
  {
   "cell_type": "markdown",
   "id": "941cf65f-3a9f-4ff9-9f60-c048b3b8ed3a",
   "metadata": {},
   "source": [
    "## Noisy SMK example"
   ]
  },
  {
   "cell_type": "code",
   "execution_count": 28,
   "id": "4730e409-ecd2-448e-b12c-9df73d691699",
   "metadata": {},
   "outputs": [],
   "source": [
    "bs = 50\n",
    "N = 50\n",
    "eps = .35\n",
    "nl = .01\n",
    "u = [0, 1, 1, 0, 1, 1, 1, 1, 1, 1, 1, 0, 0, 1, 0, 0, 0, 0]"
   ]
  },
  {
   "cell_type": "markdown",
   "id": "982b1fa7-da7f-4082-81ca-6d96ea5b077e",
   "metadata": {},
   "source": [
    "### Suzy example"
   ]
  },
  {
   "cell_type": "code",
   "execution_count": 29,
   "id": "53097b52-9916-4f22-8859-3d4691fbf757",
   "metadata": {},
   "outputs": [],
   "source": [
    "lucb_params = {\"beam_size\":bs, \"a\":.25, \"cause_eps\":.05, \n",
    "               \"beam_eps\":.1, \"max_iter\":N, \"verbose\":2, \n",
    "               \"batch_size\":1, \"non_cause_esp\":.05}\n",
    "nSuzy_SCM = get_noisy_suzy_SCM(lucb_params=lucb_params)"
   ]
  },
  {
   "cell_type": "code",
   "execution_count": 30,
   "id": "e8024d5f-a99c-4df0-bff4-26f7ce4cc4c4",
   "metadata": {},
   "outputs": [
    {
     "name": "stderr",
     "output_type": "stream",
     "text": [
      "100%|██████████| 4/4 [00:00<00:00, 1319.27it/s]\n",
      " 34%|███▍      | 69/200 [00:00<00:00, 393.23it/s]\n"
     ]
    },
    {
     "name": "stdout",
     "output_type": "stream",
     "text": [
      "Success: beam_bound=0.0000 / cause_bound=0.0000 / non_cause_bound=0.0402)\n"
     ]
    },
    {
     "name": "stderr",
     "output_type": "stream",
     "text": [
      "100%|██████████| 18/18 [00:00<00:00, 49184.02it/s]\n",
      " 83%|████████▎ | 751/900 [00:01<00:00, 454.67it/s] "
     ]
    },
    {
     "name": "stdout",
     "output_type": "stream",
     "text": [
      "Success: beam_bound=0.0000 / cause_bound=0.0498 / non_cause_bound=0.0447)\n"
     ]
    },
    {
     "name": "stderr",
     "output_type": "stream",
     "text": [
      "\n"
     ]
    }
   ],
   "source": [
    "causes = beam_search(**nSuzy_SCM, epsilon=.25, beam_size=bs)"
   ]
  },
  {
   "cell_type": "code",
   "execution_count": 31,
   "id": "eea0d6de-3d28-4e32-9898-185087800bd3",
   "metadata": {},
   "outputs": [
    {
     "name": "stdout",
     "output_type": "stream",
     "text": [
      "C={'ST': '0'}, W={'BH': '0'}, output=0.008130081300813009, score=0.198\n",
      "C={'SH': '0'}, W={'BH': '0'}, output=0.008130081300813009, score=0.397\n"
     ]
    }
   ],
   "source": [
    "show_rules(causes, nSuzy_SCM[\"variables\"])"
   ]
  },
  {
   "cell_type": "markdown",
   "id": "2a3a9719-1c8c-4c30-9b04-f5baa29ead82",
   "metadata": {
    "jp-MarkdownHeadingCollapsed": true
   },
   "source": [
    "### Average SMK example"
   ]
  },
  {
   "cell_type": "code",
   "execution_count": null,
   "id": "b154dd9c-e91e-4225-ab05-0fcd8ed900a4",
   "metadata": {},
   "outputs": [],
   "source": [
    "SCM_avg = get_nSMK_SCM(3, u, do_lucb=False, N=N, nl=nl)"
   ]
  },
  {
   "cell_type": "code",
   "execution_count": null,
   "id": "9195b925-f925-46fa-ba29-779fcec66a9f",
   "metadata": {},
   "outputs": [],
   "source": [
    "SCM_avg[\"simulation\"]([[(33,0)]])[0][1:]"
   ]
  },
  {
   "cell_type": "code",
   "execution_count": null,
   "id": "51647aae-f8e2-4d53-a1bd-eef8ff3b30ac",
   "metadata": {
    "scrolled": true
   },
   "outputs": [],
   "source": [
    "np.random.seed(0)\n",
    "causes = beam_search(**SCM_avg, max_steps=4, beam_size=bs,early_stop=False,verbose=1, epsilon=eps)\n",
    "print(\"\\nRESULTS\\n\")\n",
    "show_rules(causes, SCM_avg[\"variables\"])"
   ]
  },
  {
   "cell_type": "markdown",
   "id": "312ce193-8cdf-47c7-ba9b-41f83a6a085f",
   "metadata": {},
   "source": [
    "### LUCB SMK example"
   ]
  },
  {
   "cell_type": "code",
   "execution_count": 33,
   "id": "4f83bb4d-b4bd-447b-977b-faa7fef87b3c",
   "metadata": {},
   "outputs": [],
   "source": [
    "lucb_params = {\"beam_size\":bs, \"a\":eps, \"cause_eps\":.01, \n",
    "               \"beam_eps\":.7, \"max_iter\":N, \"verbose\":2, \n",
    "               \"batch_size\":30, \"non_cause_esp\":.05}\n",
    "SCM_lucb = get_nSMK_SCM(3, u, do_lucb=True, N=N, nl=nl, lucb_params=lucb_params)"
   ]
  },
  {
   "cell_type": "code",
   "execution_count": 34,
   "id": "c190668b-56c8-4d3f-9a73-29f48ba983e4",
   "metadata": {
    "scrolled": true
   },
   "outputs": [
    {
     "name": "stdout",
     "output_type": "stream",
     "text": [
      "============Step 1============\n",
      "Evaluating 35 rules\n"
     ]
    },
    {
     "name": "stderr",
     "output_type": "stream",
     "text": [
      "100%|██████████| 35/35 [00:00<00:00, 255.51it/s]\n",
      " 65%|██████▌   | 1140/1750 [00:00<00:00, 44614.01it/s] \n"
     ]
    },
    {
     "name": "stdout",
     "output_type": "stream",
     "text": [
      "Success: beam_bound=0.0000 / cause_bound=-0.0336 / non_cause_bound=-0.0672)\n",
      "Number of causes found: 1\n",
      "Number of non-causes remaining: 34\n",
      "Best non-cause:\n",
      "C={'FS-U1': '1'}, W={}, output=1.0, score=0.558\n",
      "Worst non-cause:\n",
      "C={'SD': '1'}, W={}, output=1.0, score=0.533\n",
      "============Step 2============\n",
      "Evaluating 1717 rules\n"
     ]
    },
    {
     "name": "stderr",
     "output_type": "stream",
     "text": [
      "100%|██████████| 1717/1717 [00:04<00:00, 358.60it/s]\n",
      " 65%|██████▍   | 55530/85850 [00:03<00:02, 15007.98it/s] \n"
     ]
    },
    {
     "name": "stdout",
     "output_type": "stream",
     "text": [
      "Success: beam_bound=0.6913 / cause_bound=0.0099 / non_cause_bound=0.0413)\n",
      "Number of causes found: 3\n",
      "Number of non-causes remaining: 1705\n",
      "Best non-cause:\n",
      "C={'FS-U2': '0'}, W={'FS-U1': '0'}, output=0.9666666666666667, score=0.476\n",
      "Worst non-cause:\n",
      "C={'SD': '1'}, W={'DK': '1'}, output=0.9666666666666667, score=0.533\n",
      "============Step 3============\n",
      "Evaluating 2763 rules\n"
     ]
    },
    {
     "name": "stderr",
     "output_type": "stream",
     "text": [
      "100%|██████████| 2763/2763 [00:08<00:00, 337.55it/s]\n",
      " 86%|████████▌ | 118590/138150 [00:34<00:05, 3460.12it/s] \n"
     ]
    },
    {
     "name": "stdout",
     "output_type": "stream",
     "text": [
      "Success: beam_bound=0.6902 / cause_bound=0.0091 / non_cause_bound=0.0402)\n",
      "Number of causes found: 4\n",
      "Number of non-causes remaining: 2756\n",
      "Best non-cause:\n",
      "C={'FF-U3': '0', 'FS-U2': '0'}, W={'FS-U1': '0'}, output=0.9666666666666667, score=0.419\n",
      "Worst non-cause:\n",
      "C={'SD': '1', 'GK-U3': '0'}, W={'SD-U3': '0'}, output=0.9666666666666667, score=0.500\n",
      "============Step 4============\n",
      "Evaluating 2942 rules\n"
     ]
    },
    {
     "name": "stderr",
     "output_type": "stream",
     "text": [
      "100%|██████████| 2942/2942 [00:11<00:00, 251.45it/s]\n",
      " 85%|████████▍ | 125010/147100 [00:36<00:06, 3420.50it/s] \n"
     ]
    },
    {
     "name": "stdout",
     "output_type": "stream",
     "text": [
      "Success: beam_bound=0.6922 / cause_bound=0.0000 / non_cause_bound=0.0422)\n",
      "Number of causes found: 0\n",
      "Number of non-causes remaining: 2942\n",
      "Best non-cause:\n",
      "C={'FF-U3': '0', 'FS-U2': '0', 'GK-U1': '0'}, W={'FS-U1': '0'}, output=1.0, score=0.394\n",
      "Worst non-cause:\n",
      "C={'SD': '1', 'GK-U3': '0'}, W={'DK-U1': '0', 'SD-U1': '0'}, output=1.0, score=0.494\n",
      "----> Found 8 causes.\n",
      "======Overall best rule:======\n",
      "C={'GK-U2': '0'}, W={'DK-U3': '0'}, output=0.05333333333333334, score=0.393\n",
      "\n",
      "RESULTS\n",
      "\n",
      "C={'GK-U2': '0'}, W={'DK-U3': '0'}, output=0.05333333333333334, score=0.393\n",
      "C={'DK': '0'}, W={}, output=0.058333333333333334, score=0.446\n",
      "C={'GP-U2': '0'}, W={'DK-U3': '0'}, output=0.07333333333333333, score=0.393\n",
      "C={'FS-U2': '0', 'FN-U2': '0'}, W={'DK-U3': '0'}, output=0.10476190476190476, score=0.342\n",
      "C={'DK-U2': '0'}, W={'DK-U3': '0'}, output=0.12380952380952381, score=0.426\n",
      "C={'FDB-U2': '0', 'GP-U3': '0', 'FF-U2': '0'}, W={}, output=0.12962962962962962, score=0.315\n",
      "C={'FDB-U2': '0', 'GK-U3': '0', 'FF-U2': '0'}, W={}, output=0.12962962962962962, score=0.316\n",
      "C={'FF-U3': '0', 'FDB-U2': '0', 'FF-U2': '0'}, W={}, output=0.1606060606060606, score=0.291\n"
     ]
    }
   ],
   "source": [
    "np.random.seed(0)\n",
    "causes = beam_search(**SCM_lucb, max_steps=4, beam_size=bs, early_stop=False,verbose=2, epsilon=eps)\n",
    "print(\"\\nRESULTS\\n\")\n",
    "show_rules(causes, SCM_lucb[\"variables\"])"
   ]
  }
 ],
 "metadata": {
  "kernelspec": {
   "display_name": "Python 3 (ipykernel)",
   "language": "python",
   "name": "python3"
  },
  "language_info": {
   "codemirror_mode": {
    "name": "ipython",
    "version": 3
   },
   "file_extension": ".py",
   "mimetype": "text/x-python",
   "name": "python",
   "nbconvert_exporter": "python",
   "pygments_lexer": "ipython3",
   "version": "3.12.9"
  }
 },
 "nbformat": 4,
 "nbformat_minor": 5
}
